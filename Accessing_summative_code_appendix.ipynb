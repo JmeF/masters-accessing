{
 "cells": [
  {
   "cell_type": "markdown",
   "metadata": {},
   "source": [
    "# Accessing Data paper code\n",
    "\n",
    "This code was used in my MSc to produce a paper about OSM. It then formed the basis for a more complete approach using only HTML web scraping (no RSS feed) and a different approach to storing data, as part of my MSc thesis - addressing many of the issues with this approach which are discussed in the paper. \n",
    "\n",
    "For more information see the [paper](https://docs.google.com/document/d/1ZZvyY366r5glFlgblz3Sf2mJO8DrmmfNOvVCcaETHnQ/edit?usp=sharing) and the [short write up](https://www.jamiefawcett.org.uk/project/masters-accessing-data)."
   ]
  },
  {
   "cell_type": "code",
   "execution_count": 1,
   "metadata": {},
   "outputs": [],
   "source": [
    "import requests\n",
    "from bs4 import BeautifulSoup as bs\n",
    "import feedparser as fp\n",
    "import pandas as pd\n",
    "import re \n",
    "import datetime\n",
    "import numpy as np\n",
    "# import pprint as pp"
   ]
  },
  {
   "cell_type": "markdown",
   "metadata": {},
   "source": [
    "## Data collection"
   ]
  },
  {
   "cell_type": "code",
   "execution_count": 4,
   "metadata": {},
   "outputs": [],
   "source": [
    "#A way to extract relevant data from a single topic's RSS feed from URL\n",
    "\n",
    "#get the rss feed from a url\n",
    "def getrss(url):\n",
    "    feed = fp.parse(url)\n",
    "    entries = feed['entries']\n",
    "    return entries\n",
    "\n",
    "#gets all the feeds from topic url\n",
    "def getPosts(topic_url):\n",
    "    topic_id = topic_url.split(\"?\")[1]\n",
    "    topic_rss = \"https://forum.openstreetmap.org/extern.php?action=feed&t%s&type=atom\"%topic_id\n",
    "    feed = fp.parse(topic_rss)\n",
    "    topic_feed = feed['entries']\n",
    "    \n",
    "    if len(topic_feed) == 0:\n",
    "        error = \"ERROR: Couldn't find anything for %s\" %topic_id\n",
    "        print(error)\n",
    "        with open(\"error_log{}.txt\".format(datetime.datetime.now().date()),\"a\") as errorfile:\n",
    "            errorfile.write(\"Topic Empty Error: \" + topic_id + \"-\" + str(datetime.datetime.now().time()) + \"\\n\")\n",
    "        return None\n",
    "        \n",
    "    else:\n",
    "        try:\n",
    "            posts = []\n",
    "            for c,entry in enumerate(topic_feed):\n",
    "                post = {}\n",
    "                post[\"author\"] = entry['author']\n",
    "                post[\"time\"] = entry['updated_parsed']                \n",
    "                post_df = pd.DataFrame([post.values()],index=[\"{}.{}\".format(topic_id,c)], columns=post.keys()) #\n",
    "                posts.append(post_df)\n",
    "\n",
    "        except KeyError:\n",
    "            print(\"ERROR: Something went wrong with ID\")\n",
    "            with open(\"error_log{}.txt\".format(datetime.datetime.now().date()),\"a\") as errorfile:\n",
    "                errorfile.write(\"ID Error: \" + topic_url + \"-\" +  str(datetime.datetime.now().time()) + \"\\n\")\n",
    "            \n",
    "    if len(posts) == 0:\n",
    "        return None\n",
    "    else:\n",
    "        topic_df = pd.concat(posts,axis=0)\n",
    "        \n",
    "    return topic_df\n"
   ]
  },
  {
   "cell_type": "code",
   "execution_count": null,
   "metadata": {},
   "outputs": [],
   "source": [
    "# A way to get all RSS feeds from any sub-forum page \n",
    "\n",
    "#A function to extract topic titles and links from sub-forums\n",
    "def getTopics(forum_page):\n",
    "    soup = bs(forum_page)\n",
    "    topics_stuff = []\n",
    "    try:\n",
    "        for row in soup.findAll('tr',{\"class\": [\"roweven\",\"rowodd\"]}):\n",
    "            topic_link = row.find(\"div\",{\"class\":\"tclcon\"}).a.get(\"href\")\n",
    "            posts = getPosts(topic_link)\n",
    "            try:\n",
    "                posts[\"topic_link\"] = topic_link\n",
    "                posts[\"topic_title\"] = row.find(\"div\",{\"class\":\"tclcon\"}).a.text\n",
    "                posts[\"topic_reply_count\"] = row.find('td',{\"class\": \"tc2\"}).text.strip()\n",
    "                posts[\"topic_view_count\"] = row.find('td',{\"class\": \"tc3\"}).text.strip()\n",
    "\n",
    "            except TypeError: #to catch where no posts in topic\n",
    "                print(\"Error, no posts in topic, skipping {}\".format(topic_link))\n",
    "                with open(\"error_log{}.txt\".format(datetime.datetime.now().date()),\"a\") as errorfile:\n",
    "                    errorfile.write(\"Post Error: \" + topic_link + \"-\" + str(datetime.datetime.now().time()) + \"\\n\")\n",
    "                    \n",
    "            topics_stuff.append(posts)\n",
    "            \n",
    "    except: #to catch where forum page has no topics\n",
    "        print(\"ERROR: forum has no topics\")\n",
    "        with open(\"error_log{}.txt\".format(datetime.datetime.now().date()),\"w\") as errorfile:\n",
    "            errorfile.write(\"Forum Error: \" + str(datetime.datetime.now().time()) + \"\\n\")\n",
    "        continue\n",
    "\n",
    "    return topics_stuff"
   ]
  },
  {
   "cell_type": "code",
   "execution_count": null,
   "metadata": {},
   "outputs": [],
   "source": [
    "#A function that gets the number of pages and then gets forum pages for each page\n",
    "def getAllPages(sub_forum_id):\n",
    "    first_page = requests.get('https://forum.openstreetmap.org/%s'%(sub_forum_id)).text\n",
    "    soup = bs(first_page)\n",
    "    page_nums = soup.find('p',{\"class\":\"pagelink conl\"})\n",
    "    if len(page_nums.findAll(\"a\")) == 0:\n",
    "        max_page = 1\n",
    "    else:\n",
    "        numbers = [int(item.text) for item in page_nums.find_all(\"a\") if item.text.isdigit()]\n",
    "        max_page = max(numbers)\n",
    "#     print(\"Getting %s pages\" % (max_page))\n",
    "    forum_topics =[]\n",
    "    for page in range(0,max_page):\n",
    "        page_num = page+1\n",
    "        if page_num % 5 == 0:\n",
    "            print('Processing %s pages...and counting'%(page_num)) \n",
    "        full_page = requests.get('https://forum.openstreetmap.org/%s&p=%s'%(sub_forum_id,page_num)).text\n",
    "        topic_entries = getTopics(full_page)\n",
    "        forum_topics.extend(topic_entries)\n",
    "#     print(\"Processed all pages\")\n",
    "    forum_df = pd.concat(forum_topics,axis=0)\n",
    "    return forum_df"
   ]
  },
  {
   "cell_type": "code",
   "execution_count": null,
   "metadata": {},
   "outputs": [],
   "source": [
    "# This function wraps up all the previous functions\n",
    "# starting from the index page and moving through each of the sub-forums\n",
    "\n",
    "def getForums(index_url,filename): #include filename to write to\n",
    "    index = requests.get(index_url).text\n",
    "    soup = bs(index)\n",
    "    \n",
    "    #Catching file overwrite issues\n",
    "    try:\n",
    "        with open(filename,\"rb\") as filein:\n",
    "            print(\"Something in this writing file already\")\n",
    "            filename = \"{}_new.{}\".format(filename.split(\".\")[0],filename.split(\".\")[1])\n",
    "            print(\"Changed filename to {}\".format(filename))\n",
    "\n",
    "    except FileNotFoundError:\n",
    "        print(\"Good to go, writing to {}\".format(filename))\n",
    "\n",
    "    try:\n",
    "         with open(\"error_log{}.txt\".format(datetime.datetime.now().date()),\"rb\") as errorfile:\n",
    "            print(\"Something in this error file already\")\n",
    "            filename = \"{}_new.{}\".format(filename.split(\".\")[0],filename.split(\".\")[1])\n",
    "            print(\"Changed filename to {}\".format(filename))\n",
    "    except FileNotFoundError:\n",
    "        print(\"Good to go, writing errors\")\n",
    "            \n",
    "    for c,row in enumerate(soup.findAll('tr',{\"class\": [\"roweven\",\"rowodd\"]})):            \n",
    "        title = row.find('h3').text.strip()\n",
    "#         print(\"Getting pages for %s\" % (title))\n",
    "\n",
    "        link = row.find('h3').a.get(\"href\").strip()\n",
    "        forum_topics = getAllPages(link)\n",
    "        forum_topics[\"forum_topic_count\"] = row.find('td',{\"class\": \"tc2\"}).text.strip()\n",
    "        forum_topics[\"Forum_post_count\"] = row.find('td',{\"class\": \"tc3\"}).text.strip()\n",
    "        forum_topics[\"forum_link\"] = link\n",
    "        forum_topics[\"forum_title\"] = title\n",
    "\n",
    "        forum_topics.to_csv(filename, mode ='a')\n",
    "        completion = (c / len(soup.findAll('tr',{\"class\": [\"roweven\",\"rowodd\"]})))*100\n",
    "        print(\"Completed {0:.0f}% of forums\".format(completion))"
   ]
  },
  {
   "cell_type": "code",
   "execution_count": null,
   "metadata": {},
   "outputs": [],
   "source": [
    "#Running\n",
    "getForums(\"https://forum.openstreetmap.org/index.php\",\"real_{}.csv\".format(datetime.datetime.now().date()))"
   ]
  },
  {
   "cell_type": "markdown",
   "metadata": {},
   "source": [
    "### additional HTML scraping"
   ]
  },
  {
   "cell_type": "code",
   "execution_count": null,
   "metadata": {},
   "outputs": [],
   "source": [
    "all_data = pd.read_csv('full_data_2019-02-12.csv',index_col=0)\n",
    "all_data = all_data[all_data[\"topic_link\"]!=\"topic_link\"]"
   ]
  },
  {
   "cell_type": "code",
   "execution_count": null,
   "metadata": {},
   "outputs": [],
   "source": [
    "topic_items = [\"topic_link\",\"topic_title\",\"topic_reply_count\",\"forum_title\",\"forum_link\"]\n",
    "topic_df = all_data[topic_items].drop_duplicates().reset_index()\n",
    "del topic_df['index']"
   ]
  },
  {
   "cell_type": "code",
   "execution_count": null,
   "metadata": {},
   "outputs": [],
   "source": [
    "def removeDash(x):\n",
    "    if x == '-':\n",
    "        x = np.nan\n",
    "    else:\n",
    "        x = x.replace(\",\",\"\")\n",
    "    return float(x)\n",
    "\n",
    "topic_df[\"topic_reply_count\"] = topic_df[\"topic_reply_count\"].map(lambda x: removeDash(x))\n",
    "\n",
    "#create a df of all topics\n",
    "missing_num = len(topic_df[topic_df[\"topic_reply_count\"]>15])\n",
    "# display(missing_num)\n",
    "missing_topics = topic_df[topic_df[\"topic_reply_count\"]>15]"
   ]
  },
  {
   "cell_type": "code",
   "execution_count": null,
   "metadata": {},
   "outputs": [],
   "source": [
    "#gets all the HTML pages from topic url\n",
    "def getaPosts(topic_url,page_num):\n",
    "    topic_page = requests.get('https://forum.openstreetmap.org/%s&p=%s'%(topic_url,page_num)).text\n",
    "    topic_id = topic_url.split(\"?\")[1]\n",
    "    soup = bs(topic_page)\n",
    "    page_posts = []  \n",
    "    for c,post in enumerate(soup.findAll(\"div\",{\"class\":re.compile(\"(blockpost(?:.*))\")})):\n",
    "\n",
    "        if page_num == 1: #for first page, skip first 15 entries\n",
    "            if c < 15:\n",
    "                continue\n",
    "                \n",
    "        post_details = {}\n",
    "        post_details[\"author\"] = post.find(\"div\",{\"class\":\"postleft\"}).find(\"dt\").find(\"strong\").text\n",
    "        post_details[\"time\"] = post.find(\"h2\").span.a.text\n",
    "        post_df = pd.DataFrame([post_details.values()],index=[\"{}.{}.{}\".format(topic_id,page_num,c)], columns=post_details.keys()) #\n",
    "        page_posts.append(post_df)\n",
    "    topic_df = pd.concat(page_posts,axis=0)\n",
    "    return topic_df\n",
    "\n",
    "#A function that gets RSS feeds for the entire forum\n",
    "def getMissingPosts(topic_url):\n",
    "    first_page = requests.get('https://forum.openstreetmap.org/%s'%(topic_url)).text\n",
    "    soup = bs(first_page)\n",
    "    page_nums = soup.find('p',{\"class\":\"pagelink conl\"})\n",
    "    if len(page_nums.findAll(\"a\")) == 0:\n",
    "        max_page = 1\n",
    "    else:\n",
    "        numbers = [int(item.text) for item in page_nums.find_all(\"a\") if item.text.isdigit()]\n",
    "        max_page = max(numbers)\n",
    "    \n",
    "    topics_feeds = []\n",
    "    for page in range(0,max_page):\n",
    "        page_num = page+1\n",
    "        post_entries = getaPosts(topic_url,page_num)\n",
    "        topics_feeds.append(post_entries)\n",
    "    post_df = pd.concat(topics_feeds,axis=0)\n",
    "    post_df[\"topic_link\"] = topic_url\n",
    "#     post_df.to_csv(\"missing_posts{}.csv\".format(datetime.datetime.now().date()), mode ='a')\n",
    "    return post_df\n",
    "    "
   ]
  },
  {
   "cell_type": "code",
   "execution_count": null,
   "metadata": {},
   "outputs": [],
   "source": [
    "missing_post_list = []\n",
    "for c, topic_link in enumerate(missing_topics[\"topic_link\"]):\n",
    "    try:\n",
    "        missing_post_list.append(getMissingPosts(topic_link))\n",
    "    except ValueError:\n",
    "        print(\"Error: no missing posts in {}\".format(topic_link))\n",
    "    if c%100 == 0:\n",
    "        how = (c+1) / missing_num\n",
    "        print(\"{}%\".format(how*100))\n",
    "\n",
    "missing_df = pd.concat(missing_post_list,axis=0)\n",
    "\n",
    "combined_df = missing_df.merge(topic_df, on = \"topic_link\")\n",
    "display(len(combined_df))\n",
    "\n",
    "combined_df.to_csv(\"missing_posts.csv\")"
   ]
  },
  {
   "cell_type": "markdown",
   "metadata": {},
   "source": [
    "# Analysis"
   ]
  },
  {
   "cell_type": "code",
   "execution_count": 5,
   "metadata": {},
   "outputs": [
    {
     "name": "stderr",
     "output_type": "stream",
     "text": [
      "UsageError: Line magic function `%` not found.\n"
     ]
    }
   ],
   "source": [
    "import matplotlib.pyplot as plt\n",
    "import seaborn as sns\n",
    "% matplotlib inline"
   ]
  },
  {
   "cell_type": "markdown",
   "metadata": {},
   "source": [
    "## Checking and cleaning"
   ]
  },
  {
   "cell_type": "code",
   "execution_count": null,
   "metadata": {},
   "outputs": [],
   "source": [
    "#append only -- means it all goes in -- drop title rows\n",
    "all_data = all_data[all_data[\"topic_link\"]!=\"topic_link\"]\n",
    "\n",
    "#merge in missing data\n",
    "all_data = pd.read_csv('full_data_2019-02-12.csv',index_col=0)\n",
    "# print(len(all_data))\n",
    "missing_data = pd.read_csv('missing_posts.csv',index_col=0)\n",
    "# print(len(missing_data))\n",
    "\n",
    "# print(len(missing_data)+len(all_data))\n",
    "\n",
    "combined_df = pd.concat([all_data,missing_data])\n",
    "# print(len(combined_df))"
   ]
  },
  {
   "cell_type": "code",
   "execution_count": null,
   "metadata": {},
   "outputs": [],
   "source": [
    "combined_df.to_csv(\"all_data_inc_missing2019-02-13.csv\")"
   ]
  },
  {
   "cell_type": "code",
   "execution_count": null,
   "metadata": {},
   "outputs": [],
   "source": [
    "#Check number of topics identified\n",
    "print(len(combined_df[\"topic_title\"].unique()))"
   ]
  },
  {
   "cell_type": "markdown",
   "metadata": {},
   "source": [
    "## Contributor analysis"
   ]
  },
  {
   "cell_type": "code",
   "execution_count": 8,
   "metadata": {},
   "outputs": [
    {
     "name": "stdout",
     "output_type": "stream",
     "text": [
      "15138\n"
     ]
    },
    {
     "data": {
      "text/html": [
       "<div>\n",
       "<style scoped>\n",
       "    .dataframe tbody tr th:only-of-type {\n",
       "        vertical-align: middle;\n",
       "    }\n",
       "\n",
       "    .dataframe tbody tr th {\n",
       "        vertical-align: top;\n",
       "    }\n",
       "\n",
       "    .dataframe thead th {\n",
       "        text-align: right;\n",
       "    }\n",
       "</style>\n",
       "<table border=\"1\" class=\"dataframe\">\n",
       "  <thead>\n",
       "    <tr style=\"text-align: right;\">\n",
       "      <th></th>\n",
       "      <th>author</th>\n",
       "    </tr>\n",
       "  </thead>\n",
       "  <tbody>\n",
       "    <tr>\n",
       "      <th>count</th>\n",
       "      <td>15138.000000</td>\n",
       "    </tr>\n",
       "    <tr>\n",
       "      <th>mean</th>\n",
       "      <td>19.684106</td>\n",
       "    </tr>\n",
       "    <tr>\n",
       "      <th>std</th>\n",
       "      <td>130.411214</td>\n",
       "    </tr>\n",
       "    <tr>\n",
       "      <th>min</th>\n",
       "      <td>1.000000</td>\n",
       "    </tr>\n",
       "    <tr>\n",
       "      <th>25%</th>\n",
       "      <td>1.000000</td>\n",
       "    </tr>\n",
       "    <tr>\n",
       "      <th>50%</th>\n",
       "      <td>2.000000</td>\n",
       "    </tr>\n",
       "    <tr>\n",
       "      <th>75%</th>\n",
       "      <td>6.000000</td>\n",
       "    </tr>\n",
       "    <tr>\n",
       "      <th>max</th>\n",
       "      <td>7222.000000</td>\n",
       "    </tr>\n",
       "  </tbody>\n",
       "</table>\n",
       "</div>"
      ],
      "text/plain": [
       "             author\n",
       "count  15138.000000\n",
       "mean      19.684106\n",
       "std      130.411214\n",
       "min        1.000000\n",
       "25%        1.000000\n",
       "50%        2.000000\n",
       "75%        6.000000\n",
       "max     7222.000000"
      ]
     },
     "metadata": {},
     "output_type": "display_data"
    }
   ],
   "source": [
    "#getting number of contributions\n",
    "all_contributors = combined_df[\"author\"].value_counts()\n",
    "print(len(all_contributors))\n",
    "\n",
    "#Get stats on contributors\n",
    "contrib_stats = pd.DataFrame(all_contributors.describe())\n",
    "display(contrib_stats)\n",
    "# contrib_stats.to_csv(\"contributor_stats.csv\")"
   ]
  },
  {
   "cell_type": "code",
   "execution_count": 9,
   "metadata": {},
   "outputs": [],
   "source": [
    "#Get the data required for plots and stats\n",
    "contrib_count = pd.DataFrame(all_contributors.value_counts())\n",
    "\n",
    "contrib_count.columns = [\"num_contributors\"]\n",
    "contrib_count[\"num_contributions\"] = contrib_count.index\n",
    "\n",
    "contrib_count[\"contributions_by_group\"] = contrib_count.apply(lambda x: x.loc[\"num_contributors\"] * x.loc[\"num_contributions\"],axis=1)\n",
    "\n",
    "contrib_count[\"log_contributions\"] = np.log(contrib_count[\"num_contributions\"])\n",
    "contrib_count[\"log_contributors\"] = np.log(contrib_count[\"num_contributors\"])\n",
    "\n",
    "# contrib_count.to_csv(\"contribution_counts.csv\")"
   ]
  },
  {
   "cell_type": "code",
   "execution_count": 10,
   "metadata": {},
   "outputs": [
    {
     "data": {
      "image/png": "[encoded data removed]",
      "text/plain": [
       "<Figure size 432x288 with 1 Axes>"
      ]
     },
     "metadata": {
      "needs_background": "light"
     },
     "output_type": "display_data"
    }
   ],
   "source": [
    "##Contrib plot\n",
    "contrib_plot = sns.distplot(all_contributors,color=\"blue\",kde=False)\n",
    "plt.yscale('log')\n",
    "contrib_plot.set_title(\"Histogram of contributions by number of contributors\") #(log) \n",
    "contrib_plot.set(xlabel=\"Number of contributions\",ylabel=\"Number of contributors\")\n",
    "fig = contrib_plot.get_figure()\n",
    "fig.savefig(\"contributor_hist.png\")\n",
    "plt.show()"
   ]
  },
  {
   "cell_type": "code",
   "execution_count": 11,
   "metadata": {},
   "outputs": [
    {
     "data": {
      "image/png": "[encoded data removed]",
      "text/plain": [
       "<Figure size 396x360 with 1 Axes>"
      ]
     },
     "metadata": {
      "needs_background": "light"
     },
     "output_type": "display_data"
    }
   ],
   "source": [
    "##Log-log plot\n",
    "log_plot = sns.lmplot(x=\"log_contributors\",y=\"log_contributions\", data=contrib_count,aspect=1.1, fit_reg=False) #,color=\"blue\"\n",
    "log_plot.fig.suptitle(\"Log-Log plot of contributors by contributions\")\n",
    "plt.xlabel(\"Logarithm of contributors\")\n",
    "plt.ylabel(\"Logarithm of contributions\")\n",
    "plt.xlim(None, 10)\n",
    "log_plot.savefig(fname =\"contributor_scatter.png\",dpi =500)\n",
    "plt.show()"
   ]
  },
  {
   "cell_type": "code",
   "execution_count": null,
   "metadata": {},
   "outputs": [],
   "source": [
    "## contributor split -- what % of users account for what % of contributions\n",
    "total_contributions = contrib_count[\"contributions_by_group\"].sum()\n",
    "total_contributors = contrib_count[\"num_contributors\"].sum()\n",
    "# print(total_contributions)\n",
    "# print(total_contributors)\n",
    "\n",
    "percents = [90,95,99]\n",
    "\n",
    "contrib_percents = []\n",
    "for percent in percents:\n",
    "    newdic = {}\n",
    "    #take all that value or less and sum contributions / total contributions = gives tail\n",
    "    percentile = np.percentile(all_contributors, percent)\n",
    "    newdic[\"percentile\"] = percentile\n",
    "    newdic[\"tail\"] = (contrib_count[\"contributions_by_group\"][contrib_count[\"num_contributions\"]<=percentile].sum()/total_contributions)*100\n",
    "    # take all that value or more and sum contributions / total contributions = gives head\n",
    "    newdic[\"head\"] = (contrib_count[\"contributions_by_group\"][contrib_count[\"num_contributions\"]>=percentile].sum()/total_contributions)*100\n",
    "    temp_df  = pd.DataFrame([newdic.values()],index=[percent] ,columns=newdic.keys())\n",
    "    contrib_percents.append(temp_df)\n",
    "contrib_percents_df = pd.concat(contrib_percents,axis=0)\n",
    "\n",
    "contrib_percents_df.to_csv(\"percentile_cuts.csv\",index = True)"
   ]
  },
  {
   "cell_type": "code",
   "execution_count": null,
   "metadata": {},
   "outputs": [],
   "source": [
    "## head tail breaks\n",
    "def htfunction(longlist, htlist=[]):\n",
    "    mean = longlist.mean()\n",
    "    head = longlist[longlist > longlist.mean()]\n",
    "    tail = longlist[longlist < longlist.mean()]\n",
    "    head_count = len(head)\n",
    "    tail_count = len(tail)\n",
    "    sumht = len(head) + len(tail)\n",
    "    newdic = {\"sum\":sumht,\"head_count\":head_count,\"tail_count\":tail_count,\"mean\":mean}\n",
    "    temp_df = pd.DataFrame([newdic.values()],columns=newdic.keys())\n",
    "    while (head_count/sumht) < 0.4:\n",
    "        htlist.append(temp_df)\n",
    "        htfunction(head)\n",
    "        return htlist\n",
    "\n",
    "hts_list = htfunction(all_contributors)\n",
    "\n",
    "htbreaks_df = pd.concat(hts_list,axis=0)\n",
    "\n",
    "htbreaks_df[\"head_percent\"] = htbreaks_df.apply(lambda x: ((x[\"head_count\"]) / (x[\"sum\"]))*100,axis=1)\n",
    "htbreaks_df[\"tail_percent\"] = htbreaks_df.apply(lambda x: ((x[\"tail_count\"]) / (x[\"sum\"]))*100,axis=1)\n",
    "# display(htbreaks_df)\n",
    "htbreaks_df.to_csv(\"head_tail_breaks.csv\")"
   ]
  }
 ],
 "metadata": {
  "kernelspec": {
   "display_name": "Python 3",
   "language": "python",
   "name": "python3"
  },
  "language_info": {
   "codemirror_mode": {
    "name": "ipython",
    "version": 3
   },
   "file_extension": ".py",
   "mimetype": "text/x-python",
   "name": "python",
   "nbconvert_exporter": "python",
   "pygments_lexer": "ipython3",
   "version": "3.6.9"
  }
 },
 "nbformat": 4,
 "nbformat_minor": 4
}
